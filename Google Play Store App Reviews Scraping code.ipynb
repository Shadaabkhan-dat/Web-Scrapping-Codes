{
 "cells": [
  {
   "cell_type": "code",
   "execution_count": null,
   "id": "b950ee24-1f56-4621-a9f0-8e1c905f6996",
   "metadata": {},
   "outputs": [],
   "source": [
    "from google_play_scraper import reviews\n",
    "import pandas as pd\n",
    "import time\n",
    "\n",
    "# App package name\n",
    "app_id = \"com.msf.sbicap.securities\"\n",
    "\n",
    "all_reviews = []\n",
    "token = None\n",
    "retry_count = 0\n",
    "max_reviews = 15000  # Limit to 15k reviews\n",
    "\n",
    "while len(all_reviews) < max_reviews:\n",
    "    try:\n",
    "        result, token = reviews(\n",
    "            app_id,\n",
    "            lang='en',               # Language\n",
    "            country='in',            # Country\n",
    "            count=200,               # 200 per request\n",
    "            continuation_token=token\n",
    "        )\n",
    "\n",
    "        all_reviews.extend(result)\n",
    "        print(f\" Fetched {len(all_reviews)} reviews so far...\")\n",
    "\n",
    "        if not token or len(all_reviews) >= max_reviews:\n",
    "            print(\" Reached the review limit or no more reviews available.\")\n",
    "            break\n",
    "\n",
    "        retry_count = 0\n",
    "        time.sleep(1)\n",
    "\n",
    "    except Exception as e:\n",
    "        retry_count += 1\n",
    "        print(f\"⚠ Error: {e}. Retrying {retry_count}/3...\")\n",
    "        if retry_count >= 3:\n",
    "            print(\" Stopping after 3 retries.\")\n",
    "            break\n",
    "        time.sleep(2)\n",
    "\n",
    "\n",
    "all_reviews = all_reviews[:max_reviews]\n",
    "\n",
    "# Converting to DataFrame\n",
    "df = pd.DataFrame(all_reviews)\n",
    "\n",
    "# Selecting only required columns\n",
    "df = df[['userName', 'content', 'score', 'at']]\n",
    "\n",
    "# Save to Excel\n",
    "df.to_excel(\"sbi_reviews_15k.xlsx\", index=False)\n",
    "\n",
    "print(f\" Exported {len(df)} reviews to sbi_reviews_15k.xlsx\")\n"
   ]
  }
 ],
 "metadata": {
  "kernelspec": {
   "display_name": "Python 3 (ipykernel)",
   "language": "python",
   "name": "python3"
  },
  "language_info": {
   "codemirror_mode": {
    "name": "ipython",
    "version": 3
   },
   "file_extension": ".py",
   "mimetype": "text/x-python",
   "name": "python",
   "nbconvert_exporter": "python",
   "pygments_lexer": "ipython3",
   "version": "3.13.3"
  }
 },
 "nbformat": 4,
 "nbformat_minor": 5
}
